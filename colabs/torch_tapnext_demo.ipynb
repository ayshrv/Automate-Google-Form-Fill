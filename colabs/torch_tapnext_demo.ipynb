{
  "cells": [
    {
      "cell_type": "markdown",
      "metadata": {
        "id": "e85xylySwifV"
      },
      "source": [
        "### Download model\n",
        "\n"
      ]
    },
    {
      "cell_type": "code",
      "execution_count": 1,
      "metadata": {
        "colab": {
          "base_uri": "https://localhost:8080/"
        },
        "id": "JHxRAEhQwqNG",
        "outputId": "49f5e0e6-7f07-4d8c-d8a4-cb646c9e0d93"
      },
      "outputs": [
        {
          "output_type": "stream",
          "name": "stdout",
          "text": [
            "--2025-05-21 23:01:56--  https://storage.googleapis.com/dm-tapnet/tapnext/bootstapnext_ckpt.npz\n",
            "Resolving storage.googleapis.com (storage.googleapis.com)... 172.217.203.207, 142.250.98.207, 142.251.107.207, ...\n",
            "Connecting to storage.googleapis.com (storage.googleapis.com)|172.217.203.207|:443... connected.\n",
            "HTTP request sent, awaiting response... 200 OK\n",
            "Length: 776980182 (741M) [application/octet-stream]\n",
            "Saving to: ‘bootstapnext_ckpt.npz.1’\n",
            "\n",
            "bootstapnext_ckpt.n 100%[===================>] 740.99M  95.3MB/s    in 6.9s    \n",
            "\n",
            "2025-05-21 23:02:03 (108 MB/s) - ‘bootstapnext_ckpt.npz.1’ saved [776980182/776980182]\n",
            "\n",
            "--2025-05-21 23:02:03--  https://storage.googleapis.com/dm-tapnet/tapnext/tapnext_ckpt.npz\n",
            "Resolving storage.googleapis.com (storage.googleapis.com)... 172.217.203.207, 142.250.98.207, 142.251.107.207, ...\n",
            "Connecting to storage.googleapis.com (storage.googleapis.com)|172.217.203.207|:443... connected.\n",
            "HTTP request sent, awaiting response... 200 OK\n",
            "Length: 776980182 (741M) [application/octet-stream]\n",
            "Saving to: ‘tapnext_ckpt.npz.1’\n",
            "\n",
            "tapnext_ckpt.npz.1  100%[===================>] 740.99M   113MB/s    in 7.3s    \n",
            "\n",
            "2025-05-21 23:02:10 (101 MB/s) - ‘tapnext_ckpt.npz.1’ saved [776980182/776980182]\n",
            "\n"
          ]
        }
      ],
      "source": [
        "!wget https://storage.googleapis.com/dm-tapnet/tapnext/bootstapnext_ckpt.npz\n",
        "!wget https://storage.googleapis.com/dm-tapnet/tapnext/tapnext_ckpt.npz"
      ]
    },
    {
      "cell_type": "markdown",
      "metadata": {
        "id": "rIx6RqUHQERV"
      },
      "source": [
        "### Download dataset"
      ]
    },
    {
      "cell_type": "code",
      "execution_count": 2,
      "metadata": {
        "colab": {
          "base_uri": "https://localhost:8080/"
        },
        "id": "mz_zXfrhQERW",
        "outputId": "de95a912-3299-4f0e-c77a-d80b9f272e92"
      },
      "outputs": [
        {
          "output_type": "stream",
          "name": "stdout",
          "text": [
            "--2025-05-21 23:02:11--  https://storage.googleapis.com/dm-tapnet/tapvid_davis.zip\n",
            "Resolving storage.googleapis.com (storage.googleapis.com)... 172.217.203.207, 142.250.98.207, 142.251.107.207, ...\n",
            "Connecting to storage.googleapis.com (storage.googleapis.com)|172.217.203.207|:443... connected.\n",
            "HTTP request sent, awaiting response... 200 OK\n",
            "Length: 1668710491 (1.6G) [application/zip]\n",
            "Saving to: ‘tapvid_davis.zip.1’\n",
            "\n",
            "tapvid_davis.zip.1  100%[===================>]   1.55G   169MB/s    in 12s     \n",
            "\n",
            "2025-05-21 23:02:22 (136 MB/s) - ‘tapvid_davis.zip.1’ saved [1668710491/1668710491]\n",
            "\n",
            "Archive:  tapvid_davis.zip\n",
            "replace tapvid_davis/SOURCES.md? [y]es, [n]o, [A]ll, [N]one, [r]ename: n\n",
            "replace tapvid_davis/README.md? [y]es, [n]o, [A]ll, [N]one, [r]ename: "
          ]
        }
      ],
      "source": [
        "!wget --no-check-certificate https://storage.googleapis.com/dm-tapnet/tapvid_davis.zip\n",
        "!unzip tapvid_davis.zip"
      ]
    },
    {
      "cell_type": "code",
      "execution_count": 1,
      "metadata": {
        "id": "RHt3rGLLxfWs"
      },
      "outputs": [],
      "source": [
        "import torch\n",
        "import torchvision"
      ]
    },
    {
      "cell_type": "code",
      "execution_count": 2,
      "metadata": {
        "colab": {
          "base_uri": "https://localhost:8080/"
        },
        "id": "-gBuXTWqxuMV",
        "outputId": "7f509243-ae41-4401-adcd-0c7e88e70298"
      },
      "outputs": [
        {
          "output_type": "execute_result",
          "data": {
            "text/plain": [
              "('2.6.0+cu124', '0.21.0+cu124')"
            ]
          },
          "metadata": {},
          "execution_count": 2
        }
      ],
      "source": [
        "torch.__version__, torchvision.__version__"
      ]
    },
    {
      "cell_type": "code",
      "execution_count": null,
      "metadata": {
        "id": "gjdq8wLcQWd7"
      },
      "outputs": [],
      "source": [
        "!pip install -q git+https://github.com/google-deepmind/tapnet.git"
      ]
    },
    {
      "cell_type": "code",
      "execution_count": null,
      "metadata": {
        "id": "mrQ_uQDeQee-"
      },
      "outputs": [],
      "source": [
        "!pip install -q git+https://github.com/google-deepmind/recurrentgemma.git@main"
      ]
    },
    {
      "cell_type": "code",
      "execution_count": null,
      "metadata": {
        "id": "NIZQxfcgyFM9"
      },
      "outputs": [],
      "source": [
        "!pip install \"numpy<2.1.0\""
      ]
    },
    {
      "cell_type": "code",
      "execution_count": 3,
      "metadata": {
        "id": "gju7QkZH2XLL"
      },
      "outputs": [],
      "source": [
        "import tqdm"
      ]
    },
    {
      "cell_type": "code",
      "source": [
        "!git clone https://github.com/google-deepmind/tapnet.git tapnet-code"
      ],
      "metadata": {
        "id": "Hs2zLL-FD-99"
      },
      "execution_count": null,
      "outputs": []
    },
    {
      "cell_type": "code",
      "source": [
        "cd tapnet-code"
      ],
      "metadata": {
        "colab": {
          "base_uri": "https://localhost:8080/"
        },
        "id": "HLmXjNM-EHqT",
        "outputId": "1d0f7cee-02c0-4403-8024-41d58789d8e2"
      },
      "execution_count": 4,
      "outputs": [
        {
          "output_type": "stream",
          "name": "stdout",
          "text": [
            "/content/tapnet-code\n"
          ]
        }
      ]
    },
    {
      "cell_type": "code",
      "execution_count": 6,
      "metadata": {
        "colab": {
          "base_uri": "https://localhost:8080/"
        },
        "id": "hICS3HPqcxU_",
        "outputId": "211f492e-395f-46fa-b27b-bdab96416808"
      },
      "outputs": [
        {
          "output_type": "stream",
          "name": "stderr",
          "text": [
            "30it [00:13,  2.19it/s]"
          ]
        },
        {
          "output_type": "stream",
          "name": "stdout",
          "text": [
            "video id 0\n",
            "video id 1\n",
            "video id 2\n",
            "video id 3\n",
            "video id 4\n",
            "video id 5\n",
            "video id 6\n",
            "video id 7\n",
            "video id 8\n",
            "video id 9\n",
            "video id 10\n",
            "video id 11\n",
            "video id 12\n",
            "video id 13\n",
            "video id 14\n",
            "video id 15\n",
            "video id 16\n",
            "video id 17\n",
            "video id 18\n",
            "video id 19\n",
            "video id 20\n",
            "video id 21\n",
            "video id 22\n",
            "video id 23\n",
            "video id 24\n",
            "video id 25\n",
            "video id 26\n",
            "video id 27\n",
            "video id 28\n",
            "video id 29\n"
          ]
        },
        {
          "output_type": "stream",
          "name": "stderr",
          "text": [
            "\n"
          ]
        }
      ],
      "source": [
        "from tapnet import evaluation_datasets\n",
        "\n",
        "davis_dataset = evaluation_datasets.create_davis_dataset(\n",
        "    davis_points_path='tapvid_davis/tapvid_davis.pkl',\n",
        "    query_mode='first',\n",
        "    # full_resolution=False,\n",
        "    resolution=(256, 256),\n",
        ")\n",
        "\n",
        "cached_dataset = []\n",
        "for j, batch in enumerate(davis_dataset):\n",
        "  cached_dataset.append(batch)\n",
        "  print(\n",
        "      'video id',\n",
        "      j,\n",
        "  )"
      ]
    },
    {
      "cell_type": "markdown",
      "metadata": {
        "id": "uQ6Ako7IQERX"
      },
      "source": [
        "### TAPNext"
      ]
    },
    {
      "cell_type": "code",
      "execution_count": 7,
      "metadata": {
        "id": "O3CTAohgPk_q",
        "colab": {
          "base_uri": "https://localhost:8080/"
        },
        "outputId": "aee1d9bd-9a2e-45e2-f5a2-5ce9896ab697"
      },
      "outputs": [
        {
          "output_type": "stream",
          "name": "stderr",
          "text": [
            "/usr/local/lib/python3.11/dist-packages/torch/_export/utils.py:415: FutureWarning: `torch.utils._pytree._register_pytree_node` is deprecated. Please use `torch.utils._pytree.register_pytree_node` instead.\n",
            "  _register_pytree_node(\n"
          ]
        }
      ],
      "source": [
        "import numpy as np\n",
        "from tapnet.tapnext.tapnext_torch import TAPNext\n",
        "from tapnet.tapnext.tapnext_torch_utils import restore_model_from_jax_checkpoint, tracker_certainty\n",
        "import torch.nn.functional as F"
      ]
    },
    {
      "cell_type": "code",
      "execution_count": 8,
      "metadata": {
        "id": "hTQpviwqQERc"
      },
      "outputs": [],
      "source": [
        "def run_eval_per_frame(\n",
        "    model,\n",
        "    batch,\n",
        "    get_trackwise_metrics=True,\n",
        "    radius=8,\n",
        "    threshold=0.5,\n",
        "    use_certainty=False,\n",
        "):\n",
        "  with torch.no_grad():\n",
        "    pred_tracks, track_logits, visible_logits, tracking_state = model(\n",
        "        video=batch['video'][:, :1], query_points=batch['query_points']\n",
        "    )\n",
        "    pred_visible = visible_logits > 0\n",
        "    pred_tracks, pred_visible = [pred_tracks.cpu()], [pred_visible.cpu()]\n",
        "    pred_track_logits, pred_visible_logits = [track_logits.cpu()], [\n",
        "        visible_logits.cpu()\n",
        "    ]\n",
        "    for frame in tqdm.tqdm(range(1, batch['video'].shape[1])):\n",
        "      # ***************************************************\n",
        "      # HERE WE RUN POINT TRACKING IN PURELY ONLINE FASHION\n",
        "      # ***************************************************\n",
        "      (\n",
        "          curr_tracks,\n",
        "          curr_track_logits,\n",
        "          curr_visible_logits,\n",
        "          tracking_state,\n",
        "      ) = model(\n",
        "          video=batch['video'][:, frame : frame + 1],\n",
        "          state=tracking_state,\n",
        "      )\n",
        "      curr_visible = curr_visible_logits > 0\n",
        "      # ***************************************************\n",
        "      pred_tracks.append(curr_tracks.cpu())\n",
        "      pred_visible.append(curr_visible.cpu())\n",
        "      pred_track_logits.append(curr_track_logits.cpu())\n",
        "      pred_visible_logits.append(curr_visible_logits.cpu())\n",
        "    tracks = torch.cat(pred_tracks, dim=1).transpose(1, 2)\n",
        "    pred_visible = torch.cat(pred_visible, dim=1).transpose(1, 2)\n",
        "    track_logits = torch.cat(pred_track_logits, dim=1).transpose(1, 2)\n",
        "    visible_logits = torch.cat(pred_visible_logits, dim=1).transpose(1, 2)\n",
        "\n",
        "    pred_certainty = tracker_certainty(tracks, track_logits, radius)\n",
        "    pred_visible_and_certain = (\n",
        "        F.sigmoid(visible_logits) * pred_certainty\n",
        "    ) > threshold\n",
        "\n",
        "    if use_certainty:\n",
        "      occluded = ~(pred_visible_and_certain.squeeze(-1))\n",
        "    else:\n",
        "      occluded = ~(pred_visible.squeeze(-1))\n",
        "\n",
        "  scalars = evaluation_datasets.compute_tapvid_metrics(\n",
        "      batch['query_points'].cpu().numpy(),\n",
        "      batch['occluded'].cpu().numpy(),\n",
        "      batch['target_points'].cpu().numpy(),\n",
        "      occluded.numpy() + 0.0,\n",
        "      tracks.numpy()[..., ::-1],\n",
        "      query_mode='first',\n",
        "      get_trackwise_metrics=get_trackwise_metrics,\n",
        "  )\n",
        "  return (\n",
        "      tracks.numpy()[..., ::-1],\n",
        "      occluded,\n",
        "      {k: v.sum(0) for k, v in scalars.items()},\n",
        "  )\n",
        "\n",
        "\n",
        "# @title Function for raw data to the input format {form-width: \"25%\"}\n",
        "def deterministic_eval(cached_dataset, strided=False):\n",
        "  if not strided:\n",
        "    for sample in tqdm.tqdm(cached_dataset, disable=True):\n",
        "      batch = sample['davis'].copy()\n",
        "      # batch['video'] = (batch['video'] + 1) / 2\n",
        "      batch['visible'] = np.logical_not(batch['occluded'])[..., None]\n",
        "      batch['padding'] = np.ones(\n",
        "          batch['query_points'].shape[:2], dtype=np.bool_\n",
        "      )\n",
        "      batch['loss_mask'] = np.ones(\n",
        "          batch['target_points'].shape[:3] + (1,), dtype=np.float32\n",
        "      )\n",
        "      batch['appearance'] = np.ones(\n",
        "          batch['target_points'].shape[:3] + (1,), dtype=np.float32\n",
        "      )\n",
        "\n",
        "      yield batch\n",
        "  else:\n",
        "    for sample in tqdm.tqdm(cached_dataset):\n",
        "      batch = sample['davis'].copy()\n",
        "      # batch['video'] = (batch['video'] + 1) / 2\n",
        "      batch['visible'] = np.logical_not(batch['occluded'])[..., None]\n",
        "      batch['padding'] = np.ones(\n",
        "          batch['query_points'].shape[:2], dtype=np.bool_\n",
        "      )\n",
        "      batch['loss_mask'] = np.ones(\n",
        "          batch['target_points'].shape[:3] + (1,), dtype=np.float32\n",
        "      )\n",
        "      batch['appearance'] = np.ones(\n",
        "          batch['target_points'].shape[:3] + (1,), dtype=np.float32\n",
        "      )\n",
        "      backward_batch = {k: v.copy() for k, v in batch.items()}\n",
        "      for key in ['visible', 'appearance', 'loss_mask', 'target_points']:\n",
        "        backward_batch[key] = np.flip(backward_batch[key], axis=2)\n",
        "      backward_batch['video'] = np.flip(backward_batch['video'], axis=1)\n",
        "      backward_queries = (\n",
        "          backward_batch['video'].shape[1]\n",
        "          - backward_batch['query_points'][..., 0]\n",
        "          - 1\n",
        "      )\n",
        "      backward_batch['query_points'][..., 0] = backward_queries\n",
        "      yield batch, backward_batch"
      ]
    },
    {
      "cell_type": "markdown",
      "metadata": {
        "id": "gJpHisHSQERc"
      },
      "source": [
        "### Create the model and load checkpoint"
      ]
    },
    {
      "cell_type": "code",
      "execution_count": 10,
      "metadata": {
        "id": "pnTma4NKQERc",
        "colab": {
          "base_uri": "https://localhost:8080/"
        },
        "outputId": "0564f06d-dd2f-405e-d124-65b521995b9b"
      },
      "outputs": [
        {
          "output_type": "execute_result",
          "data": {
            "text/plain": [
              "TAPNext(\n",
              "  (lin_proj): Conv2d(3, 768, kernel_size=(8, 8), stride=(8, 8))\n",
              "  (blocks): ModuleList(\n",
              "    (0-11): 12 x TRecViTBlock(\n",
              "      (ssm_block): ResidualBlock(\n",
              "        (temporal_pre_norm): RMSNorm()\n",
              "        (recurrent_block): RecurrentBlock(\n",
              "          (linear_y): Linear(in_features=768, out_features=768, bias=True)\n",
              "          (linear_x): Linear(in_features=768, out_features=768, bias=True)\n",
              "          (linear_out): Linear(in_features=768, out_features=768, bias=True)\n",
              "          (conv_1d): CausalConv1D()\n",
              "          (rg_lru): RGLRU(\n",
              "            (input_gate): BlockDiagonalLinear()\n",
              "            (a_gate): BlockDiagonalLinear()\n",
              "          )\n",
              "        )\n",
              "        (channel_pre_norm): RMSNorm()\n",
              "        (mlp_block): MLPBlock(\n",
              "          (ffw_up): Einsum()\n",
              "          (ffw_down): Linear(in_features=3072, out_features=768, bias=True)\n",
              "        )\n",
              "      )\n",
              "      (vit_block): EncoderBlock(\n",
              "        (ln_1): LayerNorm((768,), eps=1e-06, elementwise_affine=True)\n",
              "        (self_attention): MultiheadAttention(\n",
              "          (out_proj): NonDynamicallyQuantizableLinear(in_features=768, out_features=768, bias=True)\n",
              "        )\n",
              "        (dropout): Dropout(p=0.0, inplace=False)\n",
              "        (ln_2): LayerNorm((768,), eps=1e-06, elementwise_affine=True)\n",
              "        (mlp): MLPBlock(\n",
              "          (0): Linear(in_features=768, out_features=3072, bias=True)\n",
              "          (1): GELU(approximate='none')\n",
              "          (2): Dropout(p=0.0, inplace=False)\n",
              "          (3): Linear(in_features=3072, out_features=768, bias=True)\n",
              "          (4): Dropout(p=0.0, inplace=False)\n",
              "        )\n",
              "      )\n",
              "    )\n",
              "  )\n",
              "  (encoder_norm): LayerNorm((768,), eps=1e-05, elementwise_affine=True)\n",
              "  (visible_head): Sequential(\n",
              "    (0): Linear(in_features=768, out_features=256, bias=True)\n",
              "    (1): LayerNorm((256,), eps=1e-05, elementwise_affine=True)\n",
              "    (2): GELU(approximate='none')\n",
              "    (3): Linear(in_features=256, out_features=256, bias=True)\n",
              "    (4): LayerNorm((256,), eps=1e-05, elementwise_affine=True)\n",
              "    (5): GELU(approximate='none')\n",
              "    (6): Linear(in_features=256, out_features=1, bias=True)\n",
              "  )\n",
              "  (coordinate_head): Sequential(\n",
              "    (0): Linear(in_features=768, out_features=256, bias=True)\n",
              "    (1): LayerNorm((256,), eps=1e-05, elementwise_affine=True)\n",
              "    (2): GELU(approximate='none')\n",
              "    (3): Linear(in_features=256, out_features=256, bias=True)\n",
              "    (4): LayerNorm((256,), eps=1e-05, elementwise_affine=True)\n",
              "    (5): GELU(approximate='none')\n",
              "    (6): Linear(in_features=256, out_features=512, bias=True)\n",
              "  )\n",
              ")"
            ]
          },
          "metadata": {},
          "execution_count": 10
        }
      ],
      "source": [
        "model = TAPNext(image_size=(256, 256))\n",
        "ckpt_path = '/content/bootstapnext_ckpt.npz'\n",
        "model = restore_model_from_jax_checkpoint(model, ckpt_path)\n",
        "model.cuda()"
      ]
    },
    {
      "cell_type": "markdown",
      "metadata": {
        "id": "CukzSyYSQERd"
      },
      "source": [
        "### Run inference"
      ]
    },
    {
      "cell_type": "code",
      "execution_count": 11,
      "metadata": {
        "colab": {
          "base_uri": "https://localhost:8080/",
          "height": 341
        },
        "id": "YNf98GICtJMa",
        "outputId": "e7da11f5-101e-4796-8745-e88f259ab50a"
      },
      "outputs": [
        {
          "output_type": "error",
          "ename": "TypeError",
          "evalue": "expected np.ndarray (got int)",
          "traceback": [
            "\u001b[0;31m---------------------------------------------------------------------------\u001b[0m",
            "\u001b[0;31mTypeError\u001b[0m                                 Traceback (most recent call last)",
            "\u001b[0;32m<ipython-input-11-8172f601b551>\u001b[0m in \u001b[0;36m<cell line: 0>\u001b[0;34m()\u001b[0m\n\u001b[1;32m      2\u001b[0m \u001b[0mpreds\u001b[0m \u001b[0;34m=\u001b[0m \u001b[0;34m[\u001b[0m\u001b[0;34m]\u001b[0m\u001b[0;34m\u001b[0m\u001b[0;34m\u001b[0m\u001b[0m\n\u001b[1;32m      3\u001b[0m \u001b[0;32mfor\u001b[0m \u001b[0mbatch\u001b[0m \u001b[0;32min\u001b[0m \u001b[0mdeterministic_eval\u001b[0m\u001b[0;34m(\u001b[0m\u001b[0mcached_dataset\u001b[0m\u001b[0;34m)\u001b[0m\u001b[0;34m:\u001b[0m\u001b[0;34m\u001b[0m\u001b[0;34m\u001b[0m\u001b[0m\n\u001b[0;32m----> 4\u001b[0;31m   \u001b[0mbatch\u001b[0m \u001b[0;34m=\u001b[0m \u001b[0;34m{\u001b[0m\u001b[0mk\u001b[0m\u001b[0;34m:\u001b[0m \u001b[0mtorch\u001b[0m\u001b[0;34m.\u001b[0m\u001b[0mfrom_numpy\u001b[0m\u001b[0;34m(\u001b[0m\u001b[0mv\u001b[0m\u001b[0;34m)\u001b[0m\u001b[0;34m.\u001b[0m\u001b[0mcuda\u001b[0m\u001b[0;34m(\u001b[0m\u001b[0;34m)\u001b[0m\u001b[0;34m.\u001b[0m\u001b[0mfloat\u001b[0m\u001b[0;34m(\u001b[0m\u001b[0;34m)\u001b[0m \u001b[0;32mfor\u001b[0m \u001b[0mk\u001b[0m\u001b[0;34m,\u001b[0m \u001b[0mv\u001b[0m \u001b[0;32min\u001b[0m \u001b[0mbatch\u001b[0m\u001b[0;34m.\u001b[0m\u001b[0mitems\u001b[0m\u001b[0;34m(\u001b[0m\u001b[0;34m)\u001b[0m\u001b[0;34m}\u001b[0m\u001b[0;34m\u001b[0m\u001b[0;34m\u001b[0m\u001b[0m\n\u001b[0m\u001b[1;32m      5\u001b[0m   \u001b[0;32mwith\u001b[0m \u001b[0mtorch\u001b[0m\u001b[0;34m.\u001b[0m\u001b[0mamp\u001b[0m\u001b[0;34m.\u001b[0m\u001b[0mautocast\u001b[0m\u001b[0;34m(\u001b[0m\u001b[0;34m'cuda'\u001b[0m\u001b[0;34m,\u001b[0m \u001b[0mdtype\u001b[0m\u001b[0;34m=\u001b[0m\u001b[0mtorch\u001b[0m\u001b[0;34m.\u001b[0m\u001b[0mfloat16\u001b[0m\u001b[0;34m,\u001b[0m \u001b[0menabled\u001b[0m\u001b[0;34m=\u001b[0m\u001b[0;32mTrue\u001b[0m\u001b[0;34m)\u001b[0m\u001b[0;34m:\u001b[0m\u001b[0;34m\u001b[0m\u001b[0;34m\u001b[0m\u001b[0m\n\u001b[1;32m      6\u001b[0m     tracks, occluded, scores = run_eval_per_frame(\n",
            "\u001b[0;32m<ipython-input-11-8172f601b551>\u001b[0m in \u001b[0;36m<dictcomp>\u001b[0;34m(.0)\u001b[0m\n\u001b[1;32m      2\u001b[0m \u001b[0mpreds\u001b[0m \u001b[0;34m=\u001b[0m \u001b[0;34m[\u001b[0m\u001b[0;34m]\u001b[0m\u001b[0;34m\u001b[0m\u001b[0;34m\u001b[0m\u001b[0m\n\u001b[1;32m      3\u001b[0m \u001b[0;32mfor\u001b[0m \u001b[0mbatch\u001b[0m \u001b[0;32min\u001b[0m \u001b[0mdeterministic_eval\u001b[0m\u001b[0;34m(\u001b[0m\u001b[0mcached_dataset\u001b[0m\u001b[0;34m)\u001b[0m\u001b[0;34m:\u001b[0m\u001b[0;34m\u001b[0m\u001b[0;34m\u001b[0m\u001b[0m\n\u001b[0;32m----> 4\u001b[0;31m   \u001b[0mbatch\u001b[0m \u001b[0;34m=\u001b[0m \u001b[0;34m{\u001b[0m\u001b[0mk\u001b[0m\u001b[0;34m:\u001b[0m \u001b[0mtorch\u001b[0m\u001b[0;34m.\u001b[0m\u001b[0mfrom_numpy\u001b[0m\u001b[0;34m(\u001b[0m\u001b[0mv\u001b[0m\u001b[0;34m)\u001b[0m\u001b[0;34m.\u001b[0m\u001b[0mcuda\u001b[0m\u001b[0;34m(\u001b[0m\u001b[0;34m)\u001b[0m\u001b[0;34m.\u001b[0m\u001b[0mfloat\u001b[0m\u001b[0;34m(\u001b[0m\u001b[0;34m)\u001b[0m \u001b[0;32mfor\u001b[0m \u001b[0mk\u001b[0m\u001b[0;34m,\u001b[0m \u001b[0mv\u001b[0m \u001b[0;32min\u001b[0m \u001b[0mbatch\u001b[0m\u001b[0;34m.\u001b[0m\u001b[0mitems\u001b[0m\u001b[0;34m(\u001b[0m\u001b[0;34m)\u001b[0m\u001b[0;34m}\u001b[0m\u001b[0;34m\u001b[0m\u001b[0;34m\u001b[0m\u001b[0m\n\u001b[0m\u001b[1;32m      5\u001b[0m   \u001b[0;32mwith\u001b[0m \u001b[0mtorch\u001b[0m\u001b[0;34m.\u001b[0m\u001b[0mamp\u001b[0m\u001b[0;34m.\u001b[0m\u001b[0mautocast\u001b[0m\u001b[0;34m(\u001b[0m\u001b[0;34m'cuda'\u001b[0m\u001b[0;34m,\u001b[0m \u001b[0mdtype\u001b[0m\u001b[0;34m=\u001b[0m\u001b[0mtorch\u001b[0m\u001b[0;34m.\u001b[0m\u001b[0mfloat16\u001b[0m\u001b[0;34m,\u001b[0m \u001b[0menabled\u001b[0m\u001b[0;34m=\u001b[0m\u001b[0;32mTrue\u001b[0m\u001b[0;34m)\u001b[0m\u001b[0;34m:\u001b[0m\u001b[0;34m\u001b[0m\u001b[0;34m\u001b[0m\u001b[0m\n\u001b[1;32m      6\u001b[0m     tracks, occluded, scores = run_eval_per_frame(\n",
            "\u001b[0;31mTypeError\u001b[0m: expected np.ndarray (got int)"
          ]
        }
      ],
      "source": [
        "standard_eval_scalars_list = []\n",
        "preds = []\n",
        "for batch in deterministic_eval(cached_dataset):\n",
        "  batch = {k: torch.from_numpy(v).cuda().float() for k, v in batch.items()}\n",
        "  with torch.amp.autocast('cuda', dtype=torch.float16, enabled=True):\n",
        "    tracks, occluded, scores = run_eval_per_frame(\n",
        "        model, batch, get_trackwise_metrics=False, use_certainty=False\n",
        "    )\n",
        "  standard_eval_scalars_list.append(scores)\n",
        "  preds.append((tracks, occluded))\n",
        "\n",
        "\n",
        "print('')\n",
        "print(\n",
        "    'AJ',\n",
        "    np.mean([\n",
        "        standard_eval_scalars_list[k]['average_jaccard']\n",
        "        for k in range(len(standard_eval_scalars_list))\n",
        "    ]),\n",
        ")\n",
        "print(\n",
        "    'OA',\n",
        "    np.mean([\n",
        "        standard_eval_scalars_list[k]['occlusion_accuracy']\n",
        "        for k in range(len(standard_eval_scalars_list))\n",
        "    ]),\n",
        ")\n",
        "print(\n",
        "    'PTS',\n",
        "    np.mean([\n",
        "        standard_eval_scalars_list[k]['average_pts_within_thresh']\n",
        "        for k in range(len(standard_eval_scalars_list))\n",
        "    ]),\n",
        ")"
      ]
    },
    {
      "cell_type": "code",
      "source": [],
      "metadata": {
        "id": "j1sSXgoyF17F"
      },
      "execution_count": null,
      "outputs": []
    }
  ],
  "metadata": {
    "accelerator": "GPU",
    "colab": {
      "gpuType": "T4",
      "provenance": []
    },
    "kernelspec": {
      "display_name": "Python 3 (ipykernel)",
      "language": "python",
      "name": "python3"
    },
    "language_info": {
      "codemirror_mode": {
        "name": "ipython",
        "version": 3
      },
      "file_extension": ".py",
      "mimetype": "text/x-python",
      "name": "python",
      "nbconvert_exporter": "python",
      "pygments_lexer": "ipython3",
      "version": "3.11.11"
    }
  },
  "nbformat": 4,
  "nbformat_minor": 0
}